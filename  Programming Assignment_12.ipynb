{
 "cells": [
  {
   "cell_type": "markdown",
   "id": "dd262377",
   "metadata": {},
   "source": [
    "1. Write a Python program to Extract Unique values dictionary values?\n",
    "2. Write a Python program to find the sum of all items in a dictionary?\n",
    "3. Write a Python program to Merging two Dictionaries?\n",
    "4. Write a Python program to convert key-values list to flat dictionary?\n",
    "5. Write a Python program to insertion at the beginning in OrderedDict?\n",
    "6. Write a Python program to check order of character in string using OrderedDict()?\n",
    "7. Write a Python program to sort Python Dictionaries by Key or Value?"
   ]
  },
  {
   "cell_type": "code",
   "execution_count": 1,
   "id": "29389829",
   "metadata": {},
   "outputs": [
    {
     "name": "stdout",
     "output_type": "stream",
     "text": [
      "['Sachin', 'Adi', 'Shreyas']\n"
     ]
    }
   ],
   "source": [
    "d = {'10':'Sachin','11':'Sachin','12':'Adi','13':'Adi','14':'Shreyas'}\n",
    "l = []\n",
    "for val in d.values():\n",
    "    if val in l:\n",
    "        continue\n",
    "    else:\n",
    "        l.append(val)\n",
    "        \n",
    "print(l)    \n",
    "    "
   ]
  },
  {
   "cell_type": "code",
   "execution_count": 3,
   "id": "c71db690",
   "metadata": {},
   "outputs": [
    {
     "name": "stdout",
     "output_type": "stream",
     "text": [
      "615\n"
     ]
    }
   ],
   "source": [
    "d = {'a':[100,101],'b':[102,103],'c':[104,105]}\n",
    "l = []\n",
    "for i in d.values():\n",
    "    for j in i:\n",
    "        l.append(j)\n",
    "print(sum(l))"
   ]
  },
  {
   "cell_type": "code",
   "execution_count": 2,
   "id": "7231ef34",
   "metadata": {},
   "outputs": [
    {
     "data": {
      "text/plain": [
       "{'d': 400, 'e': 500, 'f': 600, 'a': 100, 'b': 200, 'c': 300}"
      ]
     },
     "execution_count": 2,
     "metadata": {},
     "output_type": "execute_result"
    }
   ],
   "source": [
    "d1 = {'a':100,'b':200,'c':300}\n",
    "d2 = {'d':400,'e':500,'f':600}\n",
    "d2.update(d1)\n",
    "d2"
   ]
  },
  {
   "cell_type": "code",
   "execution_count": 5,
   "id": "389f0bac",
   "metadata": {},
   "outputs": [
    {
     "name": "stdout",
     "output_type": "stream",
     "text": [
      "List ['a', 100, 'b', 200, 'c', 300, 'd', 400, 'e', 500, 'f', 600] to \n",
      " Dictionary {'a': 100, 'b': 200, 'c': 300, 'd': 400, 'e': 500, 'f': 600}\n"
     ]
    }
   ],
   "source": [
    "l = ['a',100,'b',200,'c',300,'d',400,'e',500,'f',600]\n",
    "l1= []\n",
    "l2= []\n",
    "for i in range(0,len(l),2):\n",
    "    l1.append(l[i])\n",
    "\n",
    "for j in range(1,len(l),2):\n",
    "    if j not in l1:\n",
    "        l2.append(l[j])\n",
    "#print(l1)\n",
    "#print(l2)\n",
    "\n",
    "d = dict(zip(l1,l2))\n",
    "print(\"List {} to \\n Dictionary {}\".format(l,d))  "
   ]
  },
  {
   "cell_type": "code",
   "execution_count": 6,
   "id": "c34ca0ac",
   "metadata": {},
   "outputs": [
    {
     "name": "stdout",
     "output_type": "stream",
     "text": [
      "OrderedDict([('a', 100), ('b', 200), ('c', 300), ('d', 400), ('e', 500), ('f', 600)])\n",
      "OrderedDict([('a', 100), ('b', 200), ('c', 300), ('d', 400), ('e', 500), ('f', 600), ('g', 700)])\n",
      "OrderedDict([('g', 700), ('a', 100), ('b', 200), ('c', 300), ('d', 400), ('e', 500), ('f', 600)])\n"
     ]
    }
   ],
   "source": [
    "from collections import OrderedDict\n",
    "d = {'a': 100, 'b': 200, 'c': 300, 'd': 400, 'e': 500, 'f': 600}\n",
    "od = OrderedDict(d)\n",
    "print(od)\n",
    "od['g'] = 700\n",
    "print(od)\n",
    "od.move_to_end('g', False)\n",
    "print(od)"
   ]
  },
  {
   "cell_type": "code",
   "execution_count": 7,
   "id": "b2717f73",
   "metadata": {},
   "outputs": [
    {
     "name": "stdout",
     "output_type": "stream",
     "text": [
      "{'a': 1000, 'f': 200, 'd': 300, 'c': 400, 'b': 500, 'e': 600}\n",
      "OrderedDict([('a', 1000), ('b', 500), ('c', 400), ('d', 300), ('e', 600), ('f', 200)])\n"
     ]
    }
   ],
   "source": [
    "unordered = {'a': 1000, 'f': 200, 'd': 300, 'c': 400, 'b': 500, 'e': 600}\n",
    "print(unordered)\n",
    "od = OrderedDict(sorted(unordered.items()))\n",
    "print(od)"
   ]
  },
  {
   "cell_type": "code",
   "execution_count": 8,
   "id": "3b99bbdd",
   "metadata": {},
   "outputs": [
    {
     "name": "stdout",
     "output_type": "stream",
     "text": [
      "Sorted by key:  [('a', 1000), ('b', 500), ('c', 400), ('d', 300), ('e', 600), ('f', 200)]\n"
     ]
    }
   ],
   "source": [
    "d = {'a': 1000, 'f': 200, 'd': 300, 'c': 400, 'b': 500, 'e': 600}\n",
    "sort = sorted(d.items())\n",
    "\n",
    "print(\"Sorted by key: \",sort)"
   ]
  },
  {
   "cell_type": "code",
   "execution_count": null,
   "id": "0b6cfde2",
   "metadata": {},
   "outputs": [],
   "source": []
  }
 ],
 "metadata": {
  "kernelspec": {
   "display_name": "Python 3",
   "language": "python",
   "name": "python3"
  },
  "language_info": {
   "codemirror_mode": {
    "name": "ipython",
    "version": 3
   },
   "file_extension": ".py",
   "mimetype": "text/x-python",
   "name": "python",
   "nbconvert_exporter": "python",
   "pygments_lexer": "ipython3",
   "version": "3.8.8"
  }
 },
 "nbformat": 4,
 "nbformat_minor": 5
}
