{
 "cells": [
  {
   "cell_type": "markdown",
   "id": "e5a60a1c",
   "metadata": {},
   "source": [
    "1. Write a Python Program to Display Fibonacci Sequence Using Recursion?\n",
    "2. Write a Python Program to Find Factorial of Number Using Recursion?\n",
    "3. Write a Python Program to calculate your Body Mass Index?\n",
    "4. Write a Python Program to calculate the natural logarithm of any number?\n",
    "5. Write a Python Program for cube sum of first n natural numbers?"
   ]
  },
  {
   "cell_type": "code",
   "execution_count": 1,
   "id": "3786406e",
   "metadata": {},
   "outputs": [
    {
     "name": "stdout",
     "output_type": "stream",
     "text": [
      "Required length of the series: 4\n",
      "0\n",
      "1\n",
      "1\n",
      "2\n",
      "None\n"
     ]
    }
   ],
   "source": [
    "def fibonacci(a,b,n):\n",
    "    if n==0:\n",
    "        return\n",
    "    result = a+b\n",
    "    print(result)\n",
    "    fibonacci(b, result, n-1 )\n",
    "\n",
    "n1 = 0\n",
    "n2 = 1\n",
    "n = int(input(\"Required length of the series: \"))\n",
    "print(n1)\n",
    "print(n2)\n",
    "\n",
    "print(fibonacci(n1,n2,n-2))"
   ]
  },
  {
   "cell_type": "code",
   "execution_count": 2,
   "id": "177852df",
   "metadata": {},
   "outputs": [
    {
     "data": {
      "text/plain": [
       "120"
      ]
     },
     "execution_count": 2,
     "metadata": {},
     "output_type": "execute_result"
    }
   ],
   "source": [
    "def fact(n):\n",
    "    if n==0:\n",
    "        return 1\n",
    "    return n*fact(n-1)\n",
    "\n",
    "fact(5)"
   ]
  },
  {
   "cell_type": "code",
   "execution_count": 3,
   "id": "26feed92",
   "metadata": {},
   "outputs": [
    {
     "name": "stdout",
     "output_type": "stream",
     "text": [
      "Enter weight in kg: 45\n",
      "45.0 kg\n",
      "Enter height in m: 56\n",
      "56.0 m\n",
      "Your BMI is:  0.014349489795918368\n",
      "Underweight\n"
     ]
    }
   ],
   "source": [
    "def bmi(wt,ht):\n",
    "    result = wt/ht**2\n",
    "    print(\"Your BMI is: \",result)\n",
    "    if result>= 18.5 and result<=24.9:\n",
    "        print(\"Healthy Range\")\n",
    "    elif result<18.5:\n",
    "        print(\"Underweight\")\n",
    "    else:\n",
    "        print(\"overweight\")\n",
    "    \n",
    "weight = float(input(\"Enter weight in kg: \"))\n",
    "print(weight,\"kg\")\n",
    "height = float(input(\"Enter height in m: \"))\n",
    "print(height,\"m\")\n",
    "\n",
    "bmi(weight,height)"
   ]
  },
  {
   "cell_type": "code",
   "execution_count": 4,
   "id": "c01df339",
   "metadata": {},
   "outputs": [
    {
     "name": "stdout",
     "output_type": "stream",
     "text": [
      "Enter any number: 45\n",
      "3.8066624897703196\n"
     ]
    }
   ],
   "source": [
    "import math\n",
    "n = float(input(\"Enter any number: \"))\n",
    "print(math.log(n))"
   ]
  },
  {
   "cell_type": "code",
   "execution_count": 6,
   "id": "bb006ebf",
   "metadata": {},
   "outputs": [
    {
     "name": "stdout",
     "output_type": "stream",
     "text": [
      "225\n"
     ]
    }
   ],
   "source": [
    "def cube_sum(n):\n",
    "    result = 0\n",
    "    for i in range(1,n+1):\n",
    "        result = result+(i*i*i)\n",
    "    return result\n",
    "\n",
    "\n",
    "print(cube_sum(5))"
   ]
  },
  {
   "cell_type": "code",
   "execution_count": null,
   "id": "89b96770",
   "metadata": {},
   "outputs": [],
   "source": []
  }
 ],
 "metadata": {
  "kernelspec": {
   "display_name": "Python 3",
   "language": "python",
   "name": "python3"
  },
  "language_info": {
   "codemirror_mode": {
    "name": "ipython",
    "version": 3
   },
   "file_extension": ".py",
   "mimetype": "text/x-python",
   "name": "python",
   "nbconvert_exporter": "python",
   "pygments_lexer": "ipython3",
   "version": "3.8.8"
  }
 },
 "nbformat": 4,
 "nbformat_minor": 5
}
