{
 "cells": [
  {
   "cell_type": "code",
   "execution_count": 1,
   "id": "3e181d72",
   "metadata": {},
   "outputs": [
    {
     "name": "stdout",
     "output_type": "stream",
     "text": [
      "(2, 4, 1) ➞ 3\n",
      "(3, 3, 3) ➞ 1\n",
      "(5, 4, 8) ➞ 3\n"
     ]
    }
   ],
   "source": [
    "def equal(a,b,c):\n",
    "    if a==b==c:\n",
    "        print(f'{a,b,c} ➞ {1}')\n",
    "    elif a==b or b==c:\n",
    "        print(f'{a,b,c} ➞ {2}')\n",
    "    else:\n",
    "        print(f'{a,b,c} ➞ {3}')\n",
    "\n",
    "equal(2, 4, 1)\n",
    "equal(3, 3, 3)\n",
    "equal(5, 4, 8)"
   ]
  },
  {
   "cell_type": "code",
   "execution_count": 2,
   "id": "4a0829f5",
   "metadata": {},
   "outputs": [
    {
     "name": "stdout",
     "output_type": "stream",
     "text": [
      "{'D': 1, 'B': 2, 'C': 3} ➞ [('D', 1), ('B', 2), ('C', 3)]\n",
      "{'likes': 2, 'dislikes': 3, 'followers': 10} ➞ [('likes', 2), ('dislikes', 3), ('followers', 10)]\n"
     ]
    }
   ],
   "source": [
    "def dict_to_list(in_dict):\n",
    "    out_list = []\n",
    "    for keys,values in in_dict.items():\n",
    "        out_list.append((keys,values))\n",
    "    print(f'{in_dict} ➞ {out_list}')\n",
    "                   \n",
    "dict_to_list({\"D\": 1,\"B\": 2,\"C\": 3})\n",
    "dict_to_list({\"likes\": 2,\"dislikes\": 3,\"followers\": 10})"
   ]
  },
  {
   "cell_type": "code",
   "execution_count": 3,
   "id": "b7b92621",
   "metadata": {},
   "outputs": [
    {
     "name": "stdout",
     "output_type": "stream",
     "text": [
      "['p', 's'] ➞ {'p': 'P', 's': 'S'}\n",
      "['a', 'b', 'c'] ➞ {'a': 'A', 'b': 'B', 'c': 'C'}\n",
      "['a', 'v', 'y', 'z'] ➞ {'a': 'A', 'v': 'V', 'y': 'Y', 'z': 'Z'}\n"
     ]
    }
   ],
   "source": [
    "def mapping(in_list):\n",
    "    out_dict = {}\n",
    "    for ele in in_list:\n",
    "        out_dict[ele] = ele.upper()\n",
    "    print(f'{in_list} ➞ {out_dict}')\n",
    "    \n",
    "mapping([\"p\", \"s\"])\n",
    "mapping([\"a\", \"b\", \"c\"])\n",
    "mapping([\"a\", \"v\", \"y\", \"z\"])"
   ]
  },
  {
   "cell_type": "code",
   "execution_count": 5,
   "id": "88937347",
   "metadata": {},
   "outputs": [
    {
     "name": "stdout",
     "output_type": "stream",
     "text": [
      "Aditya  ➞ Adutyu \n",
      "Sachin is good ➞ Sochon os good\n",
      "they are fine ➞ they ere fene\n"
     ]
    }
   ],
   "source": [
    "def vow_replace(in_string,vow_char):\n",
    "    vowels = ['a','e','i','o','u']\n",
    "    out_string = ''\n",
    "    for ele in in_string:\n",
    "        if ele in vowels:\n",
    "            out_string += vow_char\n",
    "        else:\n",
    "            out_string += ele\n",
    "    print(f'{in_string} ➞ {out_string}')\n",
    "        \n",
    "vow_replace(\"Aditya \", \"u\")\n",
    "vow_replace(\"Sachin is good\", \"o\")\n",
    "vow_replace(\"they are fine\", \"e\")"
   ]
  },
  {
   "cell_type": "code",
   "execution_count": 6,
   "id": "8ab51fd6",
   "metadata": {},
   "outputs": [
    {
     "name": "stdout",
     "output_type": "stream",
     "text": [
      "hi my name is sachin ➞ Hi my Name is sacHiN\n",
      "RAM IS VERY GOOD ➞ Ram is VeRy gooD\n",
      "Today ➞ ToDay\n"
     ]
    }
   ],
   "source": [
    "def ascii_capitalize(in_string):\n",
    "    out_string = ''\n",
    "    for ele in in_string.lower():\n",
    "        if (ord(ele)%2 == 0):\n",
    "            out_string += ele.upper()\n",
    "        else:\n",
    "            out_string += ele\n",
    "    print(f'{in_string} ➞ {out_string}')\n",
    "        \n",
    "ascii_capitalize(\"hi my name is sachin\")\n",
    "ascii_capitalize(\"RAM IS VERY GOOD\")\n",
    "ascii_capitalize(\"Today\")"
   ]
  },
  {
   "cell_type": "code",
   "execution_count": null,
   "id": "17554b5a",
   "metadata": {},
   "outputs": [],
   "source": []
  }
 ],
 "metadata": {
  "kernelspec": {
   "display_name": "Python 3",
   "language": "python",
   "name": "python3"
  },
  "language_info": {
   "codemirror_mode": {
    "name": "ipython",
    "version": 3
   },
   "file_extension": ".py",
   "mimetype": "text/x-python",
   "name": "python",
   "nbconvert_exporter": "python",
   "pygments_lexer": "ipython3",
   "version": "3.8.8"
  }
 },
 "nbformat": 4,
 "nbformat_minor": 5
}
