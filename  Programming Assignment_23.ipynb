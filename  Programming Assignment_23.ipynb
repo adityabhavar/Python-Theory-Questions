{
 "cells": [
  {
   "cell_type": "code",
   "execution_count": 1,
   "id": "94c4d282",
   "metadata": {},
   "outputs": [
    {
     "name": "stdout",
     "output_type": "stream",
     "text": [
      "1223 ➞ False\n",
      "12345 ➞ False\n",
      "25555 ➞ False\n",
      "6666 ➞ True\n",
      "7889996 ➞ False\n"
     ]
    }
   ],
   "source": [
    "def is_symmetrical(in_num):\n",
    "    if str(in_num) == str(in_num)[::-1]:\n",
    "        print(f'{in_num} ➞ {True}')\n",
    "    else:\n",
    "        print(f'{in_num} ➞ {False}')\n",
    "\n",
    "is_symmetrical(1223)\n",
    "is_symmetrical(12345)\n",
    "is_symmetrical(25555)\n",
    "is_symmetrical(6666)\n",
    "is_symmetrical(7889996)"
   ]
  },
  {
   "cell_type": "code",
   "execution_count": 2,
   "id": "1ad19df5",
   "metadata": {},
   "outputs": [
    {
     "name": "stdout",
     "output_type": "stream",
     "text": [
      "2, 3 ➞ 6\n",
      "1, 2, 3, 4 ➞ 24\n",
      "54, 75, 453, 0 ➞ 0\n",
      "10, -2 ➞ -20\n"
     ]
    }
   ],
   "source": [
    "def multiply_nums(in_string):\n",
    "    out_string = in_string.replace(' ','').split(',')\n",
    "    out_num = 1\n",
    "    for ele in out_string:\n",
    "        out_num *= int(ele)\n",
    "    print(f'{in_string} ➞ {out_num}')\n",
    "    \n",
    "multiply_nums(\"2, 3\")\n",
    "multiply_nums(\"1, 2, 3, 4\")\n",
    "multiply_nums(\"54, 75, 453, 0\")\n",
    "multiply_nums(\"10, -2\")"
   ]
  },
  {
   "cell_type": "code",
   "execution_count": 3,
   "id": "06a45b28",
   "metadata": {},
   "outputs": [
    {
     "name": "stdout",
     "output_type": "stream",
     "text": [
      "1224 ➞ 14416\n",
      "454655 ➞ 162516362525\n",
      "65487 ➞ 3625166449\n"
     ]
    }
   ],
   "source": [
    "def square_digits(in_num):\n",
    "    in_list = [str(int(ele)**2) for ele in str(in_num)]\n",
    "    out_list = ''.join(in_list)\n",
    "    print(f'{in_num} ➞ {int(out_list)}')\n",
    "\n",
    "square_digits(1224)\n",
    "square_digits(454655)\n",
    "square_digits(65487)"
   ]
  },
  {
   "cell_type": "code",
   "execution_count": 6,
   "id": "2934199f",
   "metadata": {},
   "outputs": [
    {
     "name": "stdout",
     "output_type": "stream",
     "text": [
      "[1, 5, 5, 7, 7] ➞ [1, 5, 7]\n",
      "[6, 6, 4, 4] ➞ [4, 6]\n",
      "[6, 6, 6, 6, 10, 15] ➞ [6, 10, 15]\n",
      "[2, 2, 2, 2, 2] ➞ [2]\n"
     ]
    }
   ],
   "source": [
    "def setify(in_list):\n",
    "    out_list = sorted(set(in_list))\n",
    "    print(f'{in_list} ➞ {out_list}')\n",
    "    \n",
    "setify([1, 5, 5, 7, 7]) \n",
    "setify([6, 6, 4, 4])\n",
    "setify([6,6, 6, 6, 10, 15])\n",
    "setify([2, 2, 2, 2, 2])"
   ]
  },
  {
   "cell_type": "code",
   "execution_count": 7,
   "id": "d75da058",
   "metadata": {},
   "outputs": [
    {
     "name": "stdout",
     "output_type": "stream",
     "text": [
      "Mean of 52  ➞ 4\n",
      "Mean of 456  ➞ 5\n",
      "Mean of 888  ➞ 8\n"
     ]
    }
   ],
   "source": [
    "def mean(in_num):\n",
    "    in_list = [int(ele) for ele in str(in_num)]\n",
    "    out_num = sum(in_list)/len(str(in_num))\n",
    "    print(f'Mean of {in_num}  ➞ {out_num:.0f}')\n",
    "    \n",
    "mean(52)\n",
    "mean(456)\n",
    "mean(888)"
   ]
  },
  {
   "cell_type": "code",
   "execution_count": null,
   "id": "9bfd7695",
   "metadata": {},
   "outputs": [],
   "source": []
  }
 ],
 "metadata": {
  "kernelspec": {
   "display_name": "Python 3",
   "language": "python",
   "name": "python3"
  },
  "language_info": {
   "codemirror_mode": {
    "name": "ipython",
    "version": 3
   },
   "file_extension": ".py",
   "mimetype": "text/x-python",
   "name": "python",
   "nbconvert_exporter": "python",
   "pygments_lexer": "ipython3",
   "version": "3.8.8"
  }
 },
 "nbformat": 4,
 "nbformat_minor": 5
}
